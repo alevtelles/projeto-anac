{
 "cells": [
  {
   "cell_type": "code",
   "execution_count": 21,
   "id": "9bff259b",
   "metadata": {},
   "outputs": [],
   "source": [
    "import pandas as pd \n",
    "import psycopg2"
   ]
  },
  {
   "cell_type": "code",
   "execution_count": null,
   "id": "fae625da",
   "metadata": {},
   "outputs": [],
   "source": []
  },
  {
   "cell_type": "code",
   "execution_count": 22,
   "id": "4fea1b56",
   "metadata": {},
   "outputs": [],
   "source": [
    "caminho_do_arquivo = r\"/Users/valente/Desktop/scripts/01. Postgree/Origem de dados/V_OCORRENCIA_AMPLA.json\"\n",
    "df = pd.read_json(caminho_do_arquivo, encoding='utf-8-sig')"
   ]
  },
  {
   "cell_type": "code",
   "execution_count": 23,
   "id": "1f343fba",
   "metadata": {},
   "outputs": [],
   "source": [
    "colunas = ['Numero_da_Ocorrencia', 'Classificacao_da_Ocorrência', 'Data_da_Ocorrencia', 'Municipio', 'UF', 'Regiao', 'Nome_do_Fabricante', 'Modelo']\n",
    "df = df[colunas]\n",
    "df = df.rename(columns={'Classificacao_da_Ocorrência': 'Classificacao_da_Ocorrencia'})"
   ]
  },
  {
   "cell_type": "code",
   "execution_count": 24,
   "id": "0104381d",
   "metadata": {},
   "outputs": [
    {
     "data": {
      "text/html": [
       "<div>\n",
       "<style scoped>\n",
       "    .dataframe tbody tr th:only-of-type {\n",
       "        vertical-align: middle;\n",
       "    }\n",
       "\n",
       "    .dataframe tbody tr th {\n",
       "        vertical-align: top;\n",
       "    }\n",
       "\n",
       "    .dataframe thead th {\n",
       "        text-align: right;\n",
       "    }\n",
       "</style>\n",
       "<table border=\"1\" class=\"dataframe\">\n",
       "  <thead>\n",
       "    <tr style=\"text-align: right;\">\n",
       "      <th></th>\n",
       "      <th>Numero_da_Ocorrencia</th>\n",
       "      <th>Classificacao_da_Ocorrencia</th>\n",
       "      <th>Data_da_Ocorrencia</th>\n",
       "      <th>Municipio</th>\n",
       "      <th>UF</th>\n",
       "      <th>Regiao</th>\n",
       "      <th>Nome_do_Fabricante</th>\n",
       "      <th>Modelo</th>\n",
       "    </tr>\n",
       "  </thead>\n",
       "  <tbody>\n",
       "    <tr>\n",
       "      <th>0</th>\n",
       "      <td>7762</td>\n",
       "      <td>Incidente</td>\n",
       "      <td>2018-03-21</td>\n",
       "      <td>SÃO PAULO</td>\n",
       "      <td>SP</td>\n",
       "      <td>Sudeste</td>\n",
       "      <td>AGUSTA</td>\n",
       "      <td>AW109SP</td>\n",
       "    </tr>\n",
       "    <tr>\n",
       "      <th>1</th>\n",
       "      <td>7759</td>\n",
       "      <td>Acidente</td>\n",
       "      <td>2018-03-14</td>\n",
       "      <td>MONTES CLAROS</td>\n",
       "      <td>MG</td>\n",
       "      <td>Sudeste</td>\n",
       "      <td>CESSNA AIRCRAFT</td>\n",
       "      <td>A152</td>\n",
       "    </tr>\n",
       "    <tr>\n",
       "      <th>2</th>\n",
       "      <td>7758</td>\n",
       "      <td>Acidente</td>\n",
       "      <td>2018-01-26</td>\n",
       "      <td>INACIOLÂNDIA</td>\n",
       "      <td>GO</td>\n",
       "      <td>Centro-Oeste</td>\n",
       "      <td>CESSNA AIRCRAFT</td>\n",
       "      <td>T188C</td>\n",
       "    </tr>\n",
       "  </tbody>\n",
       "</table>\n",
       "</div>"
      ],
      "text/plain": [
       "   Numero_da_Ocorrencia Classificacao_da_Ocorrencia Data_da_Ocorrencia  \\\n",
       "0                  7762                   Incidente         2018-03-21   \n",
       "1                  7759                    Acidente         2018-03-14   \n",
       "2                  7758                    Acidente         2018-01-26   \n",
       "\n",
       "       Municipio  UF        Regiao Nome_do_Fabricante   Modelo  \n",
       "0      SÃO PAULO  SP       Sudeste             AGUSTA  AW109SP  \n",
       "1  MONTES CLAROS  MG       Sudeste    CESSNA AIRCRAFT     A152  \n",
       "2   INACIOLÂNDIA  GO  Centro-Oeste    CESSNA AIRCRAFT    T188C  "
      ]
     },
     "execution_count": 24,
     "metadata": {},
     "output_type": "execute_result"
    }
   ],
   "source": [
    "df.head(3)"
   ]
  },
  {
   "cell_type": "code",
   "execution_count": 25,
   "id": "6b2355e1",
   "metadata": {},
   "outputs": [],
   "source": [
    "dbname = 'python'\n",
    "user = 'postgres'\n",
    "password = 'senha123'\n",
    "host = 'localhost'\n",
    "port = '5432'\n",
    "\n",
    "conexao = psycopg2.connect(dbname=dbname, user=user, password=password, host=host, port=port)\n",
    "cursor = conexao.cursor() \n",
    "\n",
    "cursor.execute('delete from public.anac_mapeamento')\n",
    "\n",
    "for indice,coluna_df in df.iterrows():\n",
    "    cursor.execute(\"\"\" insert into anac_mapeamento (     \n",
    "                Id, \n",
    "                Classificacao_da_Ocorrencia, \n",
    "                Dt_Ocorrencia, \n",
    "                Municipio, \n",
    "                UF, \n",
    "                Regiao, \n",
    "                Fabricante,\n",
    "                Modelo\n",
    "            ) VALUES (%s,%s,%s,%s,%s,%s,%s,%s)\n",
    "            \"\"\" , (\n",
    "                coluna_df[\"Numero_da_Ocorrencia\"],\n",
    "                coluna_df[\"Classificacao_da_Ocorrencia\"],\n",
    "                coluna_df[\"Data_da_Ocorrencia\"],\n",
    "                coluna_df[\"Municipio\"],\n",
    "                coluna_df[\"UF\"],\n",
    "                coluna_df[\"Regiao\"],\n",
    "                coluna_df[\"Nome_do_Fabricante\"],\n",
    "                coluna_df[\"Modelo\"],\n",
    "            )\n",
    "\n",
    "                   )\n",
    "\n",
    "conexao.commit()\n",
    "cursor.close()\n",
    "conexao.close()"
   ]
  }
 ],
 "metadata": {
  "kernelspec": {
   "display_name": ".venv",
   "language": "python",
   "name": "python3"
  },
  "language_info": {
   "codemirror_mode": {
    "name": "ipython",
    "version": 3
   },
   "file_extension": ".py",
   "mimetype": "text/x-python",
   "name": "python",
   "nbconvert_exporter": "python",
   "pygments_lexer": "ipython3",
   "version": "3.13.3"
  }
 },
 "nbformat": 4,
 "nbformat_minor": 5
}
